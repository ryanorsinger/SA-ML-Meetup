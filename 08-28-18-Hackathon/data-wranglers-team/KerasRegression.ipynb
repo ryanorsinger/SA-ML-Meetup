{
 "cells": [
  {
   "cell_type": "code",
   "execution_count": 4,
   "metadata": {
    "collapsed": true
   },
   "outputs": [],
   "source": [
    "import itertools\n",
    "import os\n",
    "import math\n",
    "import numpy as np\n",
    "import pandas as pd\n",
    "import tensorflow as tf\n",
    "\n",
    "from sklearn.preprocessing import LabelEncoder\n",
    "from tensorflow import keras\n"
   ]
  },
  {
   "cell_type": "code",
   "execution_count": null,
   "metadata": {
    "collapsed": true
   },
   "outputs": [],
   "source": [
    "layers = keras.layers\n",
    "\n",
    "path = \"./train.csv\"\n",
    "data = pd.read_csv(path)\n",
    "\n",
    "# data = data.sample(frac=1)\n"
   ]
  },
  {
   "cell_type": "code",
   "execution_count": null,
   "metadata": {
    "collapsed": true
   },
   "outputs": [],
   "source": [
    "data = data[pd.notnull(data['country'])]\n",
    "data = data[pd.notnull(data['points'])]\n",
    "data = data.drop(data.columns[0], axis=1)\n",
    "\n",
    "variety_threshold = 500 # drop anything that occurs less than this\n",
    "value_counts = data['variety'].value_counts()\n",
    "items_to_remove = value_counts[value_counts <= variety_threshold].index\n",
    "data.replace(items_to_remove, np.nan, inplace=True)\n",
    "data = data[pd.notnull(data['variety'])]"
   ]
  },
  {
   "cell_type": "code",
   "execution_count": 8,
   "metadata": {},
   "outputs": [
    {
     "name": "stdout",
     "output_type": "stream",
     "text": [
      "64856\n"
     ]
    }
   ],
   "source": [
    "train_size = int(len(data) * .8)\n"
   ]
  },
  {
   "cell_type": "code",
   "execution_count": 11,
   "metadata": {
    "collapsed": true
   },
   "outputs": [],
   "source": [
    "# Train features\n",
    "description_train = data['description'][:train_size]\n",
    "variety_train = data['variety'][:train_size]"
   ]
  },
  {
   "cell_type": "code",
   "execution_count": 12,
   "metadata": {
    "collapsed": true
   },
   "outputs": [],
   "source": [
    "# Train labels\n",
    "labels_train = data['points'][:train_size]"
   ]
  },
  {
   "cell_type": "code",
   "execution_count": 13,
   "metadata": {
    "collapsed": true
   },
   "outputs": [],
   "source": [
    "# Test features\n",
    "description_test = data['description'][train_size:]\n",
    "variety_test = data['variety'][train_size:]"
   ]
  },
  {
   "cell_type": "code",
   "execution_count": 14,
   "metadata": {
    "collapsed": true
   },
   "outputs": [],
   "source": [
    "# Test labels\n",
    "labels_test = data['points'][train_size:]"
   ]
  },
  {
   "cell_type": "code",
   "execution_count": 15,
   "metadata": {
    "collapsed": true
   },
   "outputs": [],
   "source": [
    "# Create a tokenizer to preprocess our text descriptions\n",
    "vocab_size = 12000 # This is a hyperparameter, experiment with different values for your dataset\n",
    "tokenize = keras.preprocessing.text.Tokenizer(num_words=vocab_size, char_level=False)\n",
    "tokenize.fit_on_texts(description_train) # only fit on train"
   ]
  },
  {
   "cell_type": "code",
   "execution_count": 16,
   "metadata": {
    "collapsed": true
   },
   "outputs": [],
   "source": [
    "# Wide feature 1: sparse bag of words (bow) vocab_size vector \n",
    "description_bow_train = tokenize.texts_to_matrix(description_train)\n",
    "description_bow_test = tokenize.texts_to_matrix(description_test)"
   ]
  },
  {
   "cell_type": "code",
   "execution_count": 17,
   "metadata": {
    "collapsed": true
   },
   "outputs": [],
   "source": [
    "# Wide feature 2: one-hot vector of variety categories\n",
    "\n",
    "# Use sklearn utility to convert label strings to numbered index\n",
    "encoder = LabelEncoder()\n",
    "encoder.fit(variety_train)\n",
    "variety_train = encoder.transform(variety_train)\n",
    "variety_test = encoder.transform(variety_test)\n",
    "num_classes = np.max(variety_train) + 1\n",
    "\n",
    "# Convert labels to one hot\n",
    "variety_train = keras.utils.to_categorical(variety_train, num_classes)\n",
    "variety_test = keras.utils.to_categorical(variety_test, num_classes)"
   ]
  },
  {
   "cell_type": "code",
   "execution_count": 18,
   "metadata": {
    "collapsed": true
   },
   "outputs": [],
   "source": [
    "# Define our wide model with the functional API\n",
    "bow_inputs = layers.Input(shape=(vocab_size,))\n",
    "variety_inputs = layers.Input(shape=(num_classes,))\n",
    "merged_layer = layers.concatenate([bow_inputs, variety_inputs])\n",
    "merged_layer = layers.Dense(256, activation='relu')(merged_layer)\n",
    "predictions = layers.Dense(1)(merged_layer)\n",
    "wide_model = keras.Model(inputs=[bow_inputs, variety_inputs], outputs=predictions)"
   ]
  },
  {
   "cell_type": "code",
   "execution_count": 20,
   "metadata": {
    "collapsed": true
   },
   "outputs": [],
   "source": [
    "wide_model.compile(loss='mse', optimizer='adam', metrics=['accuracy'])"
   ]
  },
  {
   "cell_type": "code",
   "execution_count": 26,
   "metadata": {
    "collapsed": true
   },
   "outputs": [],
   "source": [
    "# Deep model feature: word embeddings of wine descriptions\n",
    "train_embed = tokenize.texts_to_sequences(description_train)\n",
    "test_embed = tokenize.texts_to_sequences(description_test)\n",
    "\n",
    "max_seq_length = 170\n",
    "train_embed = keras.preprocessing.sequence.pad_sequences(\n",
    "    train_embed, maxlen=max_seq_length, padding=\"post\")\n",
    "test_embed = keras.preprocessing.sequence.pad_sequences(\n",
    "    test_embed, maxlen=max_seq_length, padding=\"post\")\n"
   ]
  },
  {
   "cell_type": "code",
   "execution_count": 27,
   "metadata": {
    "collapsed": true
   },
   "outputs": [],
   "source": [
    "deep_model.compile(loss='mse',\n",
    "                       optimizer='adam',\n",
    "                       metrics=['accuracy'])"
   ]
  },
  {
   "cell_type": "code",
   "execution_count": 3,
   "metadata": {},
   "outputs": [
    {
     "ename": "NameError",
     "evalue": "name 'layers' is not defined",
     "output_type": "error",
     "traceback": [
      "\u001b[0;31m---------------------------------------------------------------------------\u001b[0m",
      "\u001b[0;31mNameError\u001b[0m                                 Traceback (most recent call last)",
      "\u001b[0;32m<ipython-input-3-ab0bd1e995fc>\u001b[0m in \u001b[0;36m<module>\u001b[0;34m()\u001b[0m\n\u001b[1;32m      1\u001b[0m \u001b[0;31m# Combine wide and deep into one model\u001b[0m\u001b[0;34m\u001b[0m\u001b[0;34m\u001b[0m\u001b[0m\n\u001b[0;32m----> 2\u001b[0;31m \u001b[0mmerged_out\u001b[0m \u001b[0;34m=\u001b[0m \u001b[0mlayers\u001b[0m\u001b[0;34m.\u001b[0m\u001b[0mconcatenate\u001b[0m\u001b[0;34m(\u001b[0m\u001b[0;34m[\u001b[0m\u001b[0mwide_model\u001b[0m\u001b[0;34m.\u001b[0m\u001b[0moutput\u001b[0m\u001b[0;34m,\u001b[0m \u001b[0mdeep_model\u001b[0m\u001b[0;34m.\u001b[0m\u001b[0moutput\u001b[0m\u001b[0;34m]\u001b[0m\u001b[0;34m)\u001b[0m\u001b[0;34m\u001b[0m\u001b[0m\n\u001b[0m\u001b[1;32m      3\u001b[0m \u001b[0mmerged_out\u001b[0m \u001b[0;34m=\u001b[0m \u001b[0mlayers\u001b[0m\u001b[0;34m.\u001b[0m\u001b[0mDense\u001b[0m\u001b[0;34m(\u001b[0m\u001b[0;36m1\u001b[0m\u001b[0;34m)\u001b[0m\u001b[0;34m(\u001b[0m\u001b[0mmerged_out\u001b[0m\u001b[0;34m)\u001b[0m\u001b[0;34m\u001b[0m\u001b[0m\n\u001b[1;32m      4\u001b[0m \u001b[0mcombined_model\u001b[0m \u001b[0;34m=\u001b[0m \u001b[0mkeras\u001b[0m\u001b[0;34m.\u001b[0m\u001b[0mModel\u001b[0m\u001b[0;34m(\u001b[0m\u001b[0mwide_model\u001b[0m\u001b[0;34m.\u001b[0m\u001b[0minput\u001b[0m \u001b[0;34m+\u001b[0m \u001b[0;34m[\u001b[0m\u001b[0mdeep_model\u001b[0m\u001b[0;34m.\u001b[0m\u001b[0minput\u001b[0m\u001b[0;34m]\u001b[0m\u001b[0;34m,\u001b[0m \u001b[0mmerged_out\u001b[0m\u001b[0;34m)\u001b[0m\u001b[0;34m\u001b[0m\u001b[0m\n\u001b[1;32m      5\u001b[0m \u001b[0;34m\u001b[0m\u001b[0m\n",
      "\u001b[0;31mNameError\u001b[0m: name 'layers' is not defined"
     ]
    }
   ],
   "source": [
    "# Combine wide and deep into one model\n",
    "merged_out = layers.concatenate([wide_model.output, deep_model.output])\n",
    "merged_out = layers.Dense(1)(merged_out)\n",
    "combined_model = keras.Model(wide_model.input + [deep_model.input], merged_out)\n",
    "\n",
    "combined_model.compile(loss='mse',\n",
    "                       optimizer='sgd',\n",
    "                       metrics=['accuracy'])"
   ]
  },
  {
   "cell_type": "code",
   "execution_count": 30,
   "metadata": {},
   "outputs": [
    {
     "name": "stdout",
     "output_type": "stream",
     "text": [
      "Epoch 1/10\n",
      "64856/64856 [==============================] - 43s 659us/step - loss: 1113.8358 - acc: 0.0348\n",
      "Epoch 2/10\n",
      "64856/64856 [==============================] - 37s 576us/step - loss: 26.2736 - acc: 0.0830\n",
      "Epoch 3/10\n",
      "64856/64856 [==============================] - 38s 579us/step - loss: 8.5346 - acc: 0.1423\n",
      "Epoch 4/10\n",
      "64856/64856 [==============================] - 38s 579us/step - loss: 4.4109 - acc: 0.1986\n",
      "Epoch 5/10\n",
      "64856/64856 [==============================] - 37s 576us/step - loss: 3.3267 - acc: 0.2268\n",
      "Epoch 6/10\n",
      "64856/64856 [==============================] - 38s 593us/step - loss: 2.9119 - acc: 0.2430\n",
      "Epoch 7/10\n",
      "64856/64856 [==============================] - 38s 578us/step - loss: 2.6813 - acc: 0.2541\n",
      "Epoch 8/10\n",
      "64856/64856 [==============================] - 39s 596us/step - loss: 2.5148 - acc: 0.2610\n",
      "Epoch 9/10\n",
      "64856/64856 [==============================] - 38s 580us/step - loss: 2.3796 - acc: 0.2690\n",
      "Epoch 10/10\n",
      "64856/64856 [==============================] - 37s 577us/step - loss: 2.2418 - acc: 0.2795\n"
     ]
    },
    {
     "data": {
      "text/plain": [
       "<tensorflow.python.keras._impl.keras.callbacks.History at 0x1a27c50208>"
      ]
     },
     "execution_count": 30,
     "metadata": {},
     "output_type": "execute_result"
    }
   ],
   "source": [
    "# Run training\n",
    "combined_model.fit([description_bow_train, variety_train] + [train_embed], labels_train, epochs=10, batch_size=128)"
   ]
  },
  {
   "cell_type": "code",
   "execution_count": 31,
   "metadata": {},
   "outputs": [
    {
     "name": "stdout",
     "output_type": "stream",
     "text": [
      "16214/16214 [==============================] - 4s 248us/step\n"
     ]
    },
    {
     "data": {
      "text/plain": [
       "[3.0568897912369066, 0.2347970889612207]"
      ]
     },
     "execution_count": 31,
     "metadata": {},
     "output_type": "execute_result"
    }
   ],
   "source": [
    "combined_model.evaluate([description_bow_test, variety_test] + [test_embed], labels_test, batch_size=128)"
   ]
  },
  {
   "cell_type": "code",
   "execution_count": 32,
   "metadata": {
    "collapsed": true
   },
   "outputs": [],
   "source": [
    "# Generate predictions\n",
    "predictions = combined_model.predict([description_bow_test, variety_test] + [test_embed])"
   ]
  },
  {
   "cell_type": "code",
   "execution_count": 33,
   "metadata": {},
   "outputs": [
    {
     "name": "stdout",
     "output_type": "stream",
     "text": [
      "Almost floral glints appear between citrus zest and green pear. This aromatic charm continues on the palate, which is slender and compact but buffered with yeasty generosity. This is immensely enjoyable and extremely balanced.\n",
      "Predicted:  91.8679 Actual:  94 \n",
      "\n",
      "Mostly a blend of Merlot (30%), Syrah (25%) and Cabernet Sauvignon (24%), this wine offers appealing, downright fruity aromas of red currant and raspberry jam. The lightly sweet cranberry and cherry flavors provide a lot of easy-drinking enjoyment.\n",
      "Predicted:  87.147 Actual:  88 \n",
      "\n",
      "Attractively fresh and herbaceous, this is a bright and fruity wine. It has flavors of red currant and grapefruit, plus a hint of gooseberry. Full and crisp, it's a wine to drink soon.\n",
      "Predicted:  85.3879 Actual:  88 \n",
      "\n",
      "An apple pie type of wine, meaning it's got baked apple, cinnamon and pastry aromas and flavors. The palate is kind of soft and sticky, and with little vital acidity it struggles to keep up. Standard warm-climate Chardonnay.\n",
      "Predicted:  84.4129 Actual:  83 \n",
      "\n",
      "A lighter style Zinfandel, it's also lighter in color. Aromas align more with fresh minerality than deep fruit, though there is tobacco, plum jam and some pepper on the nose. Once sipped, cranberry and pomegranate compete for the fruit side, while cedar and pepper form the spice element. It's great for sipping on the porch and shows how Zinfandel can be impressively lean, even with 14.7% alcohol.\n",
      "Predicted:  90.4648 Actual:  91 \n",
      "\n",
      "With a dark red violet color and aromas of black cherry and fennel, this wine has flavors of black cherry, mint and clove. The scale tips in the direction of cooling herbs over fruit, and the warm finish is a bit one-dimensional.\n",
      "Predicted:  86.3951 Actual:  86 \n",
      "\n",
      "This is a one-of-a-kind wine in the state, with 50% of the wine fermented on skins for nine months and the rest aged in concrete and older oak. Pure red- and blue-fruit aromas are followed by bold fruit flavors and well-integrated tannins, without a trace of oak in sight. It's a completely unique interpretation of the variety, but most importantly, it's delicious.\n",
      "Predicted:  90.4219 Actual:  90 \n",
      "\n",
      "A round, fruit-powered, appealing mix of delicious citrus, berry and plum flavors. Highlights of orange peel and baking spices are underscored by bracing acidity. Sourced entirely from the Clawson Creek estate vineyard.\n",
      "Predicted:  91.4584 Actual:  90 \n",
      "\n",
      "Vanilla cream, honey and tropical-fruit flavors mark this Chardonnay, which was fermented and aged in stainless steel. It's a straightforward wine, for drinking now.\n",
      "Predicted:  85.2772 Actual:  87 \n",
      "\n",
      "The aromas of this light-bodied wine are herbal and savory, while the flavors resemble melon and celery. It has a smooth style, with more of a ripe texture than a tart one.\n",
      "Predicted:  86.0625 Actual:  86 \n",
      "\n",
      "Sandalwood and smoke kick off the nose on this deliciously complex bottling that also shows aromas of black-plum skin, crushed slate and light fennel on the nose. Tangy cranberry and pomegranate make for a fresh entry to the sip, and then come herbal touches of white sage, bay leaf and peppercorn.\n",
      "Predicted:  90.9465 Actual:  94 \n",
      "\n",
      "Piccini offers good value deals from Tuscany and this Riserva Chianti Classico follows in that tradition. The wine is compact and clean, in typical Sangiovese fashion, and ends with a bright blast of mouth-freshening acidity.\n",
      "Predicted:  86.1481 Actual:  87 \n",
      "\n",
      "This 100% Malbec rosé brings out a charming side to this sometimes tough grape. The bone-dry wine is fruity, deliciously crisp and with intense red fruitiness. Named after the owner's daughter, Julie Perrin, it comes from young vines. The wine is very ready to drink.\n",
      "Predicted:  87.0181 Actual:  88 \n",
      "\n",
      "Silhouette is Merryvale's small-production best of barrels blend from the winery's various vineyards. The '08 is a success, showing brisk acidity and new oak and yeast flavors and a creamy texture framing ripe pineapple, pear and mineral flavors. It's an elegant wine that shouldn't be served too cold.\n",
      "Predicted:  90.713 Actual:  93 \n",
      "\n",
      "Scratchy aromas of red plum and currant are herbal and rubbery. In the mouth, this is tart and shows sharp acidity. Herbal plum and raspberry flavors finish with minty, green notes.\n",
      "Predicted:  83.6104 Actual:  84 \n",
      "\n",
      "This premier cru is on the cooler left bank of the Serein river, making this vintage a crisply mineral wine that's tight with zesty lemon and fine crisp acidity. The hints of yellow fruits are still to develop. The wine is structured and needs to age, so drink from 2018.\n",
      "Predicted:  92.0003 Actual:  92 \n",
      "\n",
      "With almost zero dosage, this is dry but it doesn't feel at all unbalanced because of the ripe, fragrant fruitiness. The wine is full in the mouth, with lively acidity. It is ready to drink, particularly with food.\n",
      "Predicted:  85.7038 Actual:  90 \n",
      "\n",
      "Here's a concentrated and bright Barbera d'Asti Superiore with aromas of cherry, tobacco and tea leaf that are delivered in an intense and immediate manner. The wine is soft and velvety in the mouth thanks to the high extraction and despite the natural acidity.\n",
      "Predicted:  89.9022 Actual:  89 \n",
      "\n",
      "Young and tightly wound, this wine from the family's Olivet Lane Vineyard is reduced and generous in oak and spicy dark cherry, its aromas resplendent in rose petal. Layered and soft, it's big on complexity and plush textures, with a lengthy, caramel-and cola-laced finish.\n",
      "Predicted:  91.0741 Actual:  88 \n",
      "\n",
      "Everything about this Cabernet argues for cellaring. With a little Merlot and Cabernet Franc, it's enormously complex, with fruit flavors that range from blackberries and cherries to black currants. There's also a pleasant herbaceousness that suggests sweet green peas. The tannins are significant, so let it develop bottle complexity until 2016.\n",
      "Predicted:  89.4604 Actual:  92 \n",
      "\n",
      "Fairly round in the mouth, this has blackberry, vanilla and butter notes. It's rugged and simple, but tasty.\n",
      "Predicted:  84.5385 Actual:  84 \n",
      "\n",
      "The inviting scent and flavour of green but ripe Conference pears sloshes joyously around the palate on this fruit-foward, easy and fluid wine. With its light but fruit-driven body it just seems to have been made for a summer party and spells easy joy and fun.\n",
      "Predicted:  87.0228 Actual:  88 \n",
      "\n",
      "This small-production, nouveau-style wine was made without oak or filtering. Simple and juicy, it's festive, with effusive dried cranberry and cola spice notes that are soft and easygoing.\n",
      "Predicted:  85.3935 Actual:  88 \n",
      "\n",
      "Klopp is a mix of California and Burgundy clones, one of the producer's finest offerings every year, made in an opulent, balanced style. Lush layers of strawberry and cherry are surrounded by truffle-like dirt. The wine is concentrated in tannin and subtle oak, while anise marks the measured finish. The wine will benefit from time in the cellar through 2020.\n",
      "Predicted:  94.6598 Actual:  93 \n",
      "\n",
      "Tart red currant and red apple mingle with tangy citrus on nose and palate. Very frothy lively mousse fizzes across the palate, making it refreshing and appetizing. The citrus and tart red-fruit notes appear again on the clean dry finish, making it moreish and long.\n",
      "Predicted:  88.052 Actual:  89 \n",
      "\n",
      "With 35% new French oak, this wine is dominated by the vanilla, buttered toast and caramel of wood. Underneath all that are pineapple, lemon and pear fruit flavors.\n",
      "Predicted:  87.6205 Actual:  85 \n",
      "\n",
      "Among St. Clair's 2009 range of block Savvies, this is among the sweatiest, with pungent nettle and almost-asparagus notes on the nose. Yet on the palate, the wine is full-bodied, round and concentrated, with nectarine and honey elements punched up by bright herbal tones. Long and intense on the finish. Drink now.\n",
      "Predicted:  87.6042 Actual:  89 \n",
      "\n",
      "Nicely dry, silky and delicate in structure, this has pleasant cherry and cola flavors that are brightened by acidity. It finishes with the sweetness of toasted oak. While it's not particularly complex, it does offer plenty of varietal pleasure. Drink now.\n",
      "Predicted:  87.8293 Actual:  88 \n",
      "\n",
      "This wine is tight and tannic, with a rustic hint of leathery saddle and barnyard that makes it hard to highly recommend.\n",
      "Predicted:  83.2504 Actual:  82 \n",
      "\n",
      "89-91. Barrel sample. While there is 100% new wood, the weight of fruit in this expression is sufficient to power through. It will be an impressive wine.\n",
      "Predicted:  89.9487 Actual:  90 \n",
      "\n",
      "This wine is pure apricot fruitiness, giving it acidity as well as the warmth that comes from the year. It also delivers balance and a delicious, refreshing character. The wine is ready to drink.\n",
      "Predicted:  89.2801 Actual:  92 \n",
      "\n",
      "Spicy, jammy aromas of plum and blackberry are dense yet soft. This feels syrupy and rich, almost sticky, with grabby oak and blackened flavors of berry fruits that ultimately register as nondescript. A peppery, hot finish is plump but low on detail.\n",
      "Predicted:  88.2825 Actual:  86 \n",
      "\n",
      "This wine is 29% each Mourvèdre and Syrah with the rest equal parts Cinsault, Counoise and Grenache. Aromas of vanilla, coconut and red and black fruit lead to a full-bodied, creamy palate that mixes fruit and barrel flavors. The wood influence is strong but the fruit largely stands up to it.\n",
      "Predicted:  88.2787 Actual:  90 \n",
      "\n",
      "very tannic wine, with an astringent, dry mouthfeel, but it's so rich in fruit, it's enjoyable now. Floods the mouth with blackberry, cherry, plum, currant and dark chocolate flavors, edged with dusty spices. Should develop over the next six years, but if you can't wait, give it a good long decant.\n",
      "Predicted:  90.7637 Actual:  91 \n",
      "\n",
      "Jason Bull makes this wine for the owners, fermenting it in neutral oak that nonetheless yields a rich wine with buttery, toasty, spicy highlights. The light tropical (banana and papaya) fruit is nicely cloaked in butterscotch, with plenty of acidity to buoy it. It's both refreshing and compact, with a drinking window of now through 2020.\n",
      "Predicted:  89.144 Actual:  90 \n",
      "\n",
      "A bit lean in fruit, in keeping with this problem vintage. Aromas of damp earth, cigar and thyme have just a hint of blackberry. The tannins are very finely ground, and soft acidity makes for a pleasant mouthfeel, but it's thin stuff.\n",
      "Predicted:  85.419 Actual:  85 \n",
      "\n",
      "Spice, leather and oak aromas rest on top of an earthy base that doesn't suggest any particular fruit. This Garnacha-Tempranillo blend feels narrow and choppy. Flavors of savory oak, baked berries and chocolate finish dry and drawing.\n",
      "Predicted:  88.2607 Actual:  86 \n",
      "\n",
      "This special wine begins with stunning aromas of cedar, roasted meat and ripe raspberries, then adds savory notes of espresso and black olives to create a harmonious blend of fruity and savory elements. It's full bodied yet supple, with a long, fruit-filled finish. Already enjoyable, it should age well for at least 10 years.\n",
      "Predicted:  95.0625 Actual:  95 \n",
      "\n",
      "Underipe nectarine, lemon pith and a touch of freshly dried grass start off the bouquet of this Chardonnay. The medium-weight palate transitions into ripe flavors of melon and pear flesh that carry through to the slightly flabby finish.\n",
      "Predicted:  85.7839 Actual:  86 \n",
      "\n",
      "Powerfully rich wine, with jammy fruit flavors to go with its strawberry fruits. The wine is driven by its ripe fruit, the acidity coming through the sweetness to finish freshly and with some tannic, ageworthy structure.\n",
      "Predicted:  87.3379 Actual:  89 \n",
      "\n"
     ]
    }
   ],
   "source": [
    "# Compare predictions with actual values for the first few items in our test dataset\n",
    "num_predictions = 40\n",
    "diff = 0\n",
    "\n",
    "for i in range(num_predictions):\n",
    "    val = predictions[i]\n",
    "    print(description_test.iloc[i])\n",
    "    print('Predicted: ', val[0], 'Actual: ', labels_test.iloc[i], '\\n')\n",
    "    diff += abs(val[0] - labels_test.iloc[i])"
   ]
  },
  {
   "cell_type": "code",
   "execution_count": 34,
   "metadata": {},
   "outputs": [
    {
     "name": "stdout",
     "output_type": "stream",
     "text": [
      "Average prediction difference:  1.36592903137\n"
     ]
    }
   ],
   "source": [
    "# Compare the average difference between actual price and the model's predicted price\n",
    "print('Average prediction difference: ', diff / num_predictions)"
   ]
  },
  {
   "cell_type": "code",
   "execution_count": null,
   "metadata": {
    "collapsed": true
   },
   "outputs": [],
   "source": []
  }
 ],
 "metadata": {
  "kernelspec": {
   "display_name": "Python 3",
   "language": "python",
   "name": "python3"
  },
  "language_info": {
   "codemirror_mode": {
    "name": "ipython",
    "version": 3
   },
   "file_extension": ".py",
   "mimetype": "text/x-python",
   "name": "python",
   "nbconvert_exporter": "python",
   "pygments_lexer": "ipython3",
   "version": "3.6.5"
  }
 },
 "nbformat": 4,
 "nbformat_minor": 2
}
